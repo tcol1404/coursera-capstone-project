{
    "cells": [
        {
            "cell_type": "markdown",
            "metadata": {
                "collapsed": true
            },
            "source": "# Peer-graded Assignment: Capstone Project - The Battle of Neighborhoods (Week 1)"
        },
        {
            "cell_type": "markdown",
            "metadata": {},
            "source": "## Description of the problem and discussion of the background"
        },
        {
            "cell_type": "markdown",
            "metadata": {},
            "source": "<b>Melbourne</b> is the cultural capital of Australia, known for its music, art centres and museums, and celebration and expression of art.  Melbourne also has a very strong food culture.  Melburnians are extremely diverse with all of their dining selections, with cuisine from all over the world. If you are a true foodie who loves a good aesthetically pleasing meal, you will be in heaven exploring the food spots in Melbourne.  From beautiful pizza and pasta in Carlton (Melbourne's version of Little Italy), to amazing sushi spots with fresh seafood caught hours prior, and vegan friendly cafes, there is a ton of variety that will keep you on your toes.  The city takes its food culture very seriously and is constantly changing their menus to keep up with all the culinary trends.\n\nIn this project I will identify potential locations that could be considered for an <b>Italian restaurant</b> in the City of Melbourne, Australia.  The City of Melbourne is comprised of several suburbs, including the CBD and suburbs surrounding the CBD.  With Carlton (Melbourne's version of Little Italy) being a suburb next to the Melbourne CBD, it is critical to <b>identify a suitable location for an Italian restaurant</b>, considering the established restaurants in this location.  With a significant number of restaurants being in the CBD and surrounding suburbs, it will be important to identify locations that are not crowded with established restaurants, including <b>locations that do not have any current Italian restaurants</b>.  \n\nKey audience members that would be interested in understanding the outcome for this problem include:\n - <b>Business owners: With the impact of restrictions associated with COVID-19, a business owner will be very interested in confirming that the location of their new restaurant will provide the optimal opportunity for success.  If a restaurant is placed in the wrong location, where competing against other food service businesses, there is the possibility of the business failing.\n - <b>Local and state government officials: These officials will need to understand the optimal locations for businesses.  As approval for businesses to operate in a location, these officials would want to understand if a type of business is proposing to enter an already saturated area.\n - Residential tenants: As part of the decision process on where people live, having access to a solution that highlights the businesses that are located in a particular area, may influence the location that these people choose to live.\n\nReflecting on these considerations, I will create maps that identify restaurant densities and areas that do not have to compete against other restaurants, especially other Italian restaurants.  This will give potential stakeholders the locations that will enable the best possibility of founding a successful restaurant."
        },
        {
            "cell_type": "markdown",
            "metadata": {},
            "source": "## Description of data and how used to solve the problem"
        },
        {
            "cell_type": "markdown",
            "metadata": {},
            "source": "Based on the definition of the problem to be solved, the following data, with how it will be used, is defined below:\n\n - I used <b>Foursquare API</b> to identify the number of restaurants and their type and location in every neighbourhood\n - I used <b>Nominatim geocoding</b> to get the coordinates for Melbourne and the identified neighbourhood centres\n - I used <b>Nominatim reverse geocoding</b> to generate approximate addresses of neighbourhood centres\n - I used the json file from <b>VIC Suburb/Locality Boundaries</b> (https://data.gov.au/dataset/ds-dga-af33dd8c-0534-4e18-9245-fc64440f742e/details?q=) to draw the borders of City of Melbourne boroughs on the map"
        },
        {
            "cell_type": "code",
            "execution_count": null,
            "metadata": {},
            "outputs": [],
            "source": ""
        }
    ],
    "metadata": {
        "kernelspec": {
            "display_name": "Python 3.7",
            "language": "python",
            "name": "python3"
        },
        "language_info": {
            "codemirror_mode": {
                "name": "ipython",
                "version": 3
            },
            "file_extension": ".py",
            "mimetype": "text/x-python",
            "name": "python",
            "nbconvert_exporter": "python",
            "pygments_lexer": "ipython3",
            "version": "3.7.10"
        }
    },
    "nbformat": 4,
    "nbformat_minor": 1
}